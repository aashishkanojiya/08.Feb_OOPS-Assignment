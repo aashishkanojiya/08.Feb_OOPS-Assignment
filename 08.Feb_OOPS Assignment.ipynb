{
  "metadata": {
    "kernelspec": {
      "name": "python",
      "display_name": "Python (Pyodide)",
      "language": "python"
    },
    "language_info": {
      "codemirror_mode": {
        "name": "python",
        "version": 3
      },
      "file_extension": ".py",
      "mimetype": "text/x-python",
      "name": "python",
      "nbconvert_exporter": "python",
      "pygments_lexer": "ipython3",
      "version": "3.8"
    }
  },
  "nbformat_minor": 4,
  "nbformat": 4,
  "cells": [
    {
      "cell_type": "markdown",
      "source": "Q1. What is Abstraction in OOps? Explain with an example.",
      "metadata": {}
    },
    {
      "cell_type": "markdown",
      "source": "Answer:-Abstraction in Object-Oriented Programming (OOP) is the concept of hiding the complex implementation details of a system and exposing only the necessary and relevant parts to the user. It helps in reducing programming complexity and effort by enabling the user to interact with the system at a high level without needing to understand the intricacies of the implementation.\n\nFor Example:- BlankAccount Class",
      "metadata": {}
    },
    {
      "cell_type": "code",
      "source": "class Car:\n    def start(self):\n        print(\"Car started\")\n\n    def stop(self):\n        print(\"Car stopped\")\n\n    def drive(self):\n        print(\"Car is driving\")\n\n\nmy_car = Car()\n\nmy_car.start()   \nmy_car.drive()   \nmy_car.stop()    \n",
      "metadata": {
        "trusted": true
      },
      "outputs": [
        {
          "name": "stdout",
          "text": "Car started\nCar is driving\nCar stopped\n",
          "output_type": "stream"
        }
      ],
      "execution_count": 7
    },
    {
      "cell_type": "markdown",
      "source": "In the Above Code:- Car class abstracts the functionalities of starting, stopping, and driving the car without exposing the internal mechanisms. The user can use these methods without knowing how they are implemented.",
      "metadata": {}
    },
    {
      "cell_type": "markdown",
      "source": "Q2. Differentiate between Abstraction and Encapsulation. Explain with an example.",
      "metadata": {}
    },
    {
      "cell_type": "markdown",
      "source": "Answer- The Differentiatle Between Abstraction and Encapsulation are as follows:-\nAbstraction:- 1.Simplifies complex reality by modeling classes appropriate to the problem.\n2.Exposes only relevant data and methods, hiding implementation details.\n3.Focuses on what an object does instead of how it does it.\n\nEncapsulation:- 1.Bundles the data and methods that operate on the data within one unit (class), and restricts access to some of the object's components.\n2.Protects the object’s integrity by preventing external code from accessing or modifying its internal state directly.\n3.Uses access modifiers (like private and public) to control access to the object's internal state.\n\nExample of Abstraction:-",
      "metadata": {}
    },
    {
      "cell_type": "code",
      "source": "class Car:\n    def start_engine(self):\n        pass  \n\n    def stop_engine(self):\n        pass  ",
      "metadata": {
        "trusted": true
      },
      "outputs": [],
      "execution_count": 3
    },
    {
      "cell_type": "markdown",
      "source": "In the above code, the Car class provides the methods start_engine and stop_engine without exposing the inner workings of the engine.",
      "metadata": {}
    },
    {
      "cell_type": "code",
      "source": "## Example of Encapsulation:-\nclass BankAccount:\n    def __init__(self, balance):\n        self.__balance = balance  \n\n    def deposit(self, amount):\n        self.__balance += amount\n\n    def withdraw(self, amount):\n        if amount <= self.__balance:\n            self.__balance -= amount\n        else:\n            print(\"Insufficient funds\")\n\n    def get_balance(self):\n        return self.__balance",
      "metadata": {
        "trusted": true
      },
      "outputs": [],
      "execution_count": 5
    },
    {
      "cell_type": "markdown",
      "source": "In the above code, the BankAccount class encapsulates the balance by marking it as a private attribute (__balance). Methods like deposit and withdraw manage the balance without allowing direct modification from outside the class.",
      "metadata": {}
    },
    {
      "cell_type": "markdown",
      "source": "Q3. What is abc module in python? Why is it used?",
      "metadata": {}
    },
    {
      "cell_type": "markdown",
      "source": "Answer:-The abc module in Python stands for Abstract Base Classes. It provides a way to define abstract base classes in Python, which can serve as a template for other classes. Abstract base classes can include abstract methods that must be implemented by any subclass. This is helpful to ensure that derived classes follow a certain structure.\n\nThe Uses of abc module in python are as follows:-\n1.Defining Interfaces: To define a set of methods that must be created within any child classes built from the abstract base class.\n2.Enforcing Consistency: Ensures that certain methods are consistently implemented across various subclasses.\n3.Preventing Instantiation: Abstract classes cannot be instantiated directly, which enforces the creation of subclasses.",
      "metadata": {}
    },
    {
      "cell_type": "markdown",
      "source": "Q4. How can we achieve data abstraction?",
      "metadata": {}
    },
    {
      "cell_type": "raw",
      "source": "Answer:-Q4.Data abstraction is achieved by exposing only the essential features of an object while hiding the unnecessary details. It simplifies the interface for interaction and ensures that the complexity is hidden from the user.\n\n1.Using Classes and Objects: Define a class that encapsulates the data (attributes) and the operations (methods) on that data.\n2.Using Abstract Classes and Methods: Utilize abstract classes and methods that require subclasses to implement specific details. The abc module in Python is handy for this.\n3.Encapsulation: Hide the internal state of the object by using private attributes (e.g., prefixed with double underscores __) and provide public methods to access and modify them.",
      "metadata": {}
    },
    {
      "cell_type": "markdown",
      "source": "Q5. Can we create an instance of an abstract class? Explain your answer.",
      "metadata": {}
    },
    {
      "cell_type": "raw",
      "source": "Answer:-No, you cannot create an instance of an abstract class. Abstract classes are meant to be blueprints for other classes. They can define methods that must be implemented by subclasses, but they are not designed to be instantiated on their own.\n\nReasons:-\n1.Incomplete Implementation: Abstract classes can have methods that are not implemented (abstract methods), making them incomplete.\n2.Enforcing Implementation: Abstract classes are used to ensure that certain methods are implemented in all derived classes, providing a consistent interface.\n\nFor Example:-",
      "metadata": {}
    },
    {
      "cell_type": "code",
      "source": "from abc import ABC, abstractmethod\n\nclass Animal(ABC):\n    @abstractmethod\n    def make_sound(self):\n        pass\n \n\nclass Dog(Animal):\n    def make_sound(self):\n        return \"Woof!\"\n\ndog = Dog()\nprint(dog.make_sound())  \n",
      "metadata": {
        "trusted": true
      },
      "outputs": [
        {
          "name": "stdout",
          "text": "Woof!\n",
          "output_type": "stream"
        }
      ],
      "execution_count": 8
    },
    {
      "cell_type": "markdown",
      "source": "In the above code:-Animal directly would raise an error because it’s an abstract class. Instead, you create an instance of Dog, which is a concrete subclass that implements the make_sound method.",
      "metadata": {}
    }
  ]
}